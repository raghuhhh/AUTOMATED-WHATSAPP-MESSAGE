{
  "nbformat": 4,
  "nbformat_minor": 0,
  "metadata": {
    "colab": {
      "name": "Untitled7.ipynb",
      "provenance": [],
      "authorship_tag": "ABX9TyOE7HkqKLjepzXRp71htTJI",
      "include_colab_link": true
    },
    "kernelspec": {
      "name": "python3",
      "display_name": "Python 3"
    },
    "language_info": {
      "name": "python"
    }
  },
  "cells": [
    {
      "cell_type": "markdown",
      "metadata": {
        "id": "view-in-github",
        "colab_type": "text"
      },
      "source": [
        "<a href=\"https://colab.research.google.com/github/raghuhhh/AUTOMATED-WHATSAPP-MESSAGE/blob/master/TwitterAPI.ipynb\" target=\"_parent\"><img src=\"https://colab.research.google.com/assets/colab-badge.svg\" alt=\"Open In Colab\"/></a>"
      ]
    },
    {
      "cell_type": "code",
      "execution_count": 2,
      "metadata": {
        "id": "OezbSbkUSkxG"
      },
      "outputs": [],
      "source": [
        "import textblob\n",
        "import tweepy\n",
        "from tweepy import OAuthHandler\n",
        "from textblob import TextBlob"
      ]
    },
    {
      "cell_type": "code",
      "source": [
        "consumer_key='GHF6Vvtqum4QAsW4wo1hqtJFh'\n",
        "consumer_secret='VyHSuDUY93dyEQuNyvatOz99REsmnJRGvPvKpSb3sIG7WpvyiU'\n",
        "access_token='1148605198350409730-QqOGLuif0kQlmG0OY6HcaJPUzErVPY'\n",
        "access_token_secret='0NbFwyoPnV94ffSxyjq1qtW0FoaT84X8mWkYeObPbnnF5'"
      ],
      "metadata": {
        "id": "JMUnQbypegTZ"
      },
      "execution_count": 3,
      "outputs": []
    },
    {
      "cell_type": "code",
      "source": [
        "\n",
        "auth=tweepy.OAuthHandler(consumer_key,consumer_secret)\n",
        "auth.set_access_token(access_token,access_token_secret)\n",
        "api=tweepy.API(auth)\n",
        "public_tweets=api.search('IPL')"
      ],
      "metadata": {
        "id": "jJWO34cWgFgg"
      },
      "execution_count": 4,
      "outputs": []
    },
    {
      "cell_type": "code",
      "source": [
        "for tweet in public_tweets:\n",
        "  print(tweet.text)\n",
        "  analysis=TextBlob(tweet.text)\n",
        "  print(analysis.sentiment)\n",
        "  if analysis.sentiment[0] > 0:\n",
        "    print('positive')\n",
        "  elif analysis.sentiment[0] < 0:\n",
        "    print('negative')\n",
        "  else:\n",
        "    print('neutral')"
      ],
      "metadata": {
        "colab": {
          "base_uri": "https://localhost:8080/"
        },
        "id": "H40n51Vjh7AW",
        "outputId": "88065cad-c69f-42cf-84d7-bbeacac8d800"
      },
      "execution_count": 5,
      "outputs": [
        {
          "output_type": "stream",
          "name": "stdout",
          "text": [
            "RT @CSKFansArmy: \"Smriti Mandhana wants to play for CSK's Women IPL team\" - Kate Cross 💛\n",
            "\n",
            "#WhistlePodu | #IPL2022 https://t.co/ZM6KGEZlxX\n",
            "Sentiment(polarity=0.1, subjectivity=0.05)\n",
            "positive\n",
            "RT @bsindia: While #IPL2022 threw up new bowling stars like Umran Malik &amp; Arshdeep Singh, the likes of Umesh Yadav, Kuldeep Yadav &amp; Tim Sou…\n",
            "Sentiment(polarity=0.13636363636363635, subjectivity=0.45454545454545453)\n",
            "positive\n",
            "RT @TPIndiaOfficial: The love for Cricket knows no bounds in our country.\n",
            "Have you grown up watching cricket? Then, answer these questions…\n",
            "Sentiment(polarity=0.5, subjectivity=0.6)\n",
            "positive\n",
            "RT @Priyank_hahaha: Kise pta thaa ek din ye ladka bada hokar IPL trophy jeetega.. 🥲 https://t.co/p5M0M4e2SN\n",
            "Sentiment(polarity=0.0, subjectivity=0.0)\n",
            "neutral\n",
            "RT @CSKFansArmy: If women's IPL happens, What would be your choice for Chennai team name?\n",
            "\n",
            "#WhistlePodu | #IPL2022\n",
            "Sentiment(polarity=0.0, subjectivity=0.0)\n",
            "neutral\n",
            "RT @CSKFansArmy: \"Smriti Mandhana wants to play for CSK's Women IPL team\" - Kate Cross 💛\n",
            "\n",
            "#WhistlePodu | #IPL2022 https://t.co/ZM6KGEZlxX\n",
            "Sentiment(polarity=0.1, subjectivity=0.05)\n",
            "positive\n",
            "RT @Shebas_10dulkar: Most (4s+6s) in each IPL Season\n",
            "\n",
            "2008 - RR (343)\n",
            "2009 - DEC (272)\n",
            "2010 - MI (337)\n",
            "2011 - RCB (318)\n",
            "2012 - DC (329)\n",
            "201…\n",
            "Sentiment(polarity=0.5, subjectivity=0.5)\n",
            "positive\n",
            "RT @ZeeNewsEnglish: MS Dhoni wins our hearts all over again as he meets CSK's specially-abled fan!\n",
            "\n",
            "#msdhoni #CSK #Dhoni #chennaisuperkings…\n",
            "Sentiment(polarity=0.375, subjectivity=0.2)\n",
            "positive\n",
            "RT @TNSubbaRao1: IPL TEAM CAPTAINS with their SPOUSE &amp; CUP...\n",
            "\n",
            "😂😂😂😂😂\n",
            "\n",
            "#IPL2022 https://t.co/YcW5sYgxIk\n",
            "Sentiment(polarity=0.0, subjectivity=0.0)\n",
            "neutral\n",
            "IPL 2022 : सबसे ज्यादा आईपीएल फाइनल हार में शामिल रहे : -\n",
            "\n",
            " 6 - एमएस धोनी\n",
            " 5 - रवि अश्विन*\n",
            " 5 - सुरेश रैना\n",
            "\n",
            "🏆 सबसे… https://t.co/xvTispvfhV\n",
            "Sentiment(polarity=0.0, subjectivity=0.0)\n",
            "neutral\n",
            "RT @FourOverthrows: IPL winning captain Hardik Pandya openly crediting Dhoni. What a legacy man. https://t.co/LHMndJOaoH\n",
            "Sentiment(polarity=0.25, subjectivity=0.625)\n",
            "positive\n",
            "*IPL ने UP के क्रिकेटरों को क्या दिया?:* LSG से ज्यादा DC और SRH ने खिलाया, 9 खिलाड़ी खेल पाए 2 डगआउट में ‌बैठे रहे… https://t.co/cL0xXw8xfT\n",
            "Sentiment(polarity=0.0, subjectivity=0.0)\n",
            "neutral\n",
            "Luke Wood earns maiden ODI call-up | Jos Buttler back from IPL https://t.co/D7A9HAMYlm\n",
            "Sentiment(polarity=0.0, subjectivity=0.0)\n",
            "neutral\n",
            "IPL sequel in the alternate covid-universe:\n",
            "Send out the zombie ministers !! https://t.co/MdaZx5Oe9G\n",
            "Sentiment(polarity=0.0, subjectivity=0.0)\n",
            "neutral\n",
            "RT @ESPNcricinfo: 💥 POD ALERT 💥\n",
            "\n",
            "Written off after the auction, just how did Hardik Pandya's Gujarat Titans beat the odds and win the IPL i…\n",
            "Sentiment(polarity=0.8, subjectivity=0.4)\n",
            "positive\n"
          ]
        }
      ]
    }
  ]
}